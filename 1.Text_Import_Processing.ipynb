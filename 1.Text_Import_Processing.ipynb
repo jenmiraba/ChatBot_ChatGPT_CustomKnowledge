{
 "cells": [
  {
   "cell_type": "markdown",
   "id": "a8511330",
   "metadata": {},
   "source": [
    "# World Cup Qatar 2022 Spanish News\n",
    "\n",
    "Data Sources: <br>\n",
    "https://as.com/  <br>\n",
    "https://www.europapress.es/  <br>\n",
    "https://www.elmundo.es/deportes/futbol/  <br>\n",
    "https://elpais.com/  <br>"
   ]
  },
  {
   "cell_type": "markdown",
   "id": "9108fd26",
   "metadata": {},
   "source": [
    "### Import libraries"
   ]
  },
  {
   "cell_type": "code",
   "execution_count": 1,
   "id": "a19838c5",
   "metadata": {},
   "outputs": [],
   "source": [
    "import pandas as pd\n",
    "import re\n",
    "import os\n",
    "import demoji\n",
    "import string"
   ]
  },
  {
   "cell_type": "markdown",
   "id": "49c5c6c8",
   "metadata": {},
   "source": [
    "### Import raw data to use as our custom knowledge base\n",
    "\n",
    "For this demo we'll use news about the World Cup 22, because ChatGPT thinks this tournament hasn't taken place yet."
   ]
  },
  {
   "cell_type": "code",
   "execution_count": 2,
   "id": "36656b29",
   "metadata": {},
   "outputs": [],
   "source": [
    "getwc = os.getcwd()\n",
    "rawdata_directory = #'/path/to/folder'\n",
    "all_files = os.listdir(rawdata_directory)\n",
    "csv_files = [f for f in all_files if f.endswith('.csv')]"
   ]
  },
  {
   "cell_type": "code",
   "execution_count": 3,
   "id": "786db6aa",
   "metadata": {},
   "outputs": [
    {
     "data": {
      "text/plain": [
       "['elpais.csv', 'as-futbol.csv', 'elmundo.csv', 'europapress.csv']"
      ]
     },
     "execution_count": 3,
     "metadata": {},
     "output_type": "execute_result"
    }
   ],
   "source": [
    "csv_files"
   ]
  },
  {
   "cell_type": "code",
   "execution_count": 4,
   "id": "d4c77d74",
   "metadata": {},
   "outputs": [
    {
     "data": {
      "text/html": [
       "<div>\n",
       "<style scoped>\n",
       "    .dataframe tbody tr th:only-of-type {\n",
       "        vertical-align: middle;\n",
       "    }\n",
       "\n",
       "    .dataframe tbody tr th {\n",
       "        vertical-align: top;\n",
       "    }\n",
       "\n",
       "    .dataframe thead th {\n",
       "        text-align: right;\n",
       "    }\n",
       "</style>\n",
       "<table border=\"1\" class=\"dataframe\">\n",
       "  <thead>\n",
       "    <tr style=\"text-align: right;\">\n",
       "      <th></th>\n",
       "      <th>web-scraper-order</th>\n",
       "      <th>web-scraper-start-url</th>\n",
       "      <th>noticia</th>\n",
       "      <th>noticia-href</th>\n",
       "      <th>texto</th>\n",
       "    </tr>\n",
       "  </thead>\n",
       "  <tbody>\n",
       "    <tr>\n",
       "      <th>0</th>\n",
       "      <td>1680120613-1805</td>\n",
       "      <td>https://elpais.com/buscador/?q=mundial%2B2022%...</td>\n",
       "      <td>Peligro al volante</td>\n",
       "      <td>https://elpais.com/opinion/2022-11-19/peligro-...</td>\n",
       "      <td>Cartas a la DirectoraiOpinión de un lector sob...</td>\n",
       "    </tr>\n",
       "    <tr>\n",
       "      <th>1</th>\n",
       "      <td>1680120617-1806</td>\n",
       "      <td>https://elpais.com/buscador/?q=mundial%2B2022%...</td>\n",
       "      <td>Livakovic, el iluminado que no paraba penaltis</td>\n",
       "      <td>https://elpais.com/deportes/mundial-futbol/202...</td>\n",
       "      <td>Argentina\\n                        ARG\\n      ...</td>\n",
       "    </tr>\n",
       "    <tr>\n",
       "      <th>2</th>\n",
       "      <td>1680120621-1807</td>\n",
       "      <td>https://elpais.com/buscador/?q=mundial%2B2022%...</td>\n",
       "      <td>El Athletic gana peso en la selección</td>\n",
       "      <td>https://elpais.com/deportes/2022-09-28/el-athl...</td>\n",
       "      <td>liga de las nacionesEl Athletic gana peso en l...</td>\n",
       "    </tr>\n",
       "    <tr>\n",
       "      <th>3</th>\n",
       "      <td>1680120624-1808</td>\n",
       "      <td>https://elpais.com/buscador/?q=mundial%2B2022%...</td>\n",
       "      <td>Las citas clave que necesitas saber hoy</td>\n",
       "      <td>https://cincodias.elpais.com/economia/2023-03-...</td>\n",
       "      <td>La Agenda de Cinco DíasLas citas clave que nec...</td>\n",
       "    </tr>\n",
       "    <tr>\n",
       "      <th>4</th>\n",
       "      <td>1680120627-1809</td>\n",
       "      <td>https://elpais.com/buscador/?q=mundial%2B2022%...</td>\n",
       "      <td>La CNMC investiga a RTVE por la posible venta ...</td>\n",
       "      <td>https://elpais.com/television/2022-10-04/la-cn...</td>\n",
       "      <td>RTVELa CNMC investiga a RTVE por la posible ve...</td>\n",
       "    </tr>\n",
       "  </tbody>\n",
       "</table>\n",
       "</div>"
      ],
      "text/plain": [
       "  web-scraper-order                              web-scraper-start-url  \\\n",
       "0   1680120613-1805  https://elpais.com/buscador/?q=mundial%2B2022%...   \n",
       "1   1680120617-1806  https://elpais.com/buscador/?q=mundial%2B2022%...   \n",
       "2   1680120621-1807  https://elpais.com/buscador/?q=mundial%2B2022%...   \n",
       "3   1680120624-1808  https://elpais.com/buscador/?q=mundial%2B2022%...   \n",
       "4   1680120627-1809  https://elpais.com/buscador/?q=mundial%2B2022%...   \n",
       "\n",
       "                                             noticia  \\\n",
       "0                                 Peligro al volante   \n",
       "1     Livakovic, el iluminado que no paraba penaltis   \n",
       "2              El Athletic gana peso en la selección   \n",
       "3            Las citas clave que necesitas saber hoy   \n",
       "4  La CNMC investiga a RTVE por la posible venta ...   \n",
       "\n",
       "                                        noticia-href  \\\n",
       "0  https://elpais.com/opinion/2022-11-19/peligro-...   \n",
       "1  https://elpais.com/deportes/mundial-futbol/202...   \n",
       "2  https://elpais.com/deportes/2022-09-28/el-athl...   \n",
       "3  https://cincodias.elpais.com/economia/2023-03-...   \n",
       "4  https://elpais.com/television/2022-10-04/la-cn...   \n",
       "\n",
       "                                               texto  \n",
       "0  Cartas a la DirectoraiOpinión de un lector sob...  \n",
       "1  Argentina\\n                        ARG\\n      ...  \n",
       "2  liga de las nacionesEl Athletic gana peso en l...  \n",
       "3  La Agenda de Cinco DíasLas citas clave que nec...  \n",
       "4  RTVELa CNMC investiga a RTVE por la posible ve...  "
      ]
     },
     "execution_count": 4,
     "metadata": {},
     "output_type": "execute_result"
    }
   ],
   "source": [
    "df = pd.concat((pd.read_csv(getwc + '/Data_Raw/' + f) for f in csv_files), ignore_index=True)\n",
    "df.head()"
   ]
  },
  {
   "cell_type": "code",
   "execution_count": 5,
   "id": "8395a39d",
   "metadata": {},
   "outputs": [
    {
     "data": {
      "text/html": [
       "<div>\n",
       "<style scoped>\n",
       "    .dataframe tbody tr th:only-of-type {\n",
       "        vertical-align: middle;\n",
       "    }\n",
       "\n",
       "    .dataframe tbody tr th {\n",
       "        vertical-align: top;\n",
       "    }\n",
       "\n",
       "    .dataframe thead th {\n",
       "        text-align: right;\n",
       "    }\n",
       "</style>\n",
       "<table border=\"1\" class=\"dataframe\">\n",
       "  <thead>\n",
       "    <tr style=\"text-align: right;\">\n",
       "      <th></th>\n",
       "      <th>texto</th>\n",
       "    </tr>\n",
       "  </thead>\n",
       "  <tbody>\n",
       "    <tr>\n",
       "      <th>0</th>\n",
       "      <td>Cartas a la DirectoraiOpinión de un lector sob...</td>\n",
       "    </tr>\n",
       "    <tr>\n",
       "      <th>1</th>\n",
       "      <td>Argentina\\n                        ARG\\n      ...</td>\n",
       "    </tr>\n",
       "    <tr>\n",
       "      <th>2</th>\n",
       "      <td>liga de las nacionesEl Athletic gana peso en l...</td>\n",
       "    </tr>\n",
       "    <tr>\n",
       "      <th>3</th>\n",
       "      <td>La Agenda de Cinco DíasLas citas clave que nec...</td>\n",
       "    </tr>\n",
       "    <tr>\n",
       "      <th>4</th>\n",
       "      <td>RTVELa CNMC investiga a RTVE por la posible ve...</td>\n",
       "    </tr>\n",
       "  </tbody>\n",
       "</table>\n",
       "</div>"
      ],
      "text/plain": [
       "                                               texto\n",
       "0  Cartas a la DirectoraiOpinión de un lector sob...\n",
       "1  Argentina\\n                        ARG\\n      ...\n",
       "2  liga de las nacionesEl Athletic gana peso en l...\n",
       "3  La Agenda de Cinco DíasLas citas clave que nec...\n",
       "4  RTVELa CNMC investiga a RTVE por la posible ve..."
      ]
     },
     "execution_count": 5,
     "metadata": {},
     "output_type": "execute_result"
    }
   ],
   "source": [
    "df = df.drop(columns = ['noticia', 'web-scraper-order', 'web-scraper-start-url', 'noticia-href'])\n",
    "df.head()"
   ]
  },
  {
   "cell_type": "markdown",
   "id": "7ef1e25f",
   "metadata": {},
   "source": [
    "### Text cleaning\n",
    "\n",
    "Cleaning the text before feeding it to ChatGPT is important for several reasons: <br>\n",
    "\n",
    "- Consistency and uniformity across the entire dataset so the model learns from consistent patterns in the data, leading to better performance.<br>\n",
    "\n",
    "- Noise Reduction: many of the news scraped contains a lot of noise such as HTML tags, special characters, and emojis. Removing this noise, could make it easier for the model to learn the underlying patterns in the data.<br>\n",
    "\n",
    "- Efficiency: save the computational resources by reducing the amount of data that the model has to process.<br>\n",
    "\n",
    "- Saving in cost of credits in our OpenAI API account, $ 0.02 for every 1,000 tokens. This experiment is only to test how to use custom knowledge to train ChatGPT."
   ]
  },
  {
   "cell_type": "code",
   "execution_count": 6,
   "id": "92a52345",
   "metadata": {},
   "outputs": [],
   "source": [
    "# Drop rows where the text of the news has null values\n",
    "df = df.dropna(subset = ['texto']).reset_index(drop = True)"
   ]
  },
  {
   "cell_type": "code",
   "execution_count": 7,
   "id": "df4ed7ff",
   "metadata": {},
   "outputs": [],
   "source": [
    "def count_characters(df, column_name):\n",
    "    \n",
    "    # Create a new column that contains the length of each string\n",
    "    # It'll be used to compare if there where changes to the original text\n",
    "    df['character_count'] = df[column_name].str.len()\n",
    "    \n",
    "    return df"
   ]
  },
  {
   "cell_type": "code",
   "execution_count": 8,
   "id": "771b9914",
   "metadata": {},
   "outputs": [
    {
     "data": {
      "text/html": [
       "<div>\n",
       "<style scoped>\n",
       "    .dataframe tbody tr th:only-of-type {\n",
       "        vertical-align: middle;\n",
       "    }\n",
       "\n",
       "    .dataframe tbody tr th {\n",
       "        vertical-align: top;\n",
       "    }\n",
       "\n",
       "    .dataframe thead th {\n",
       "        text-align: right;\n",
       "    }\n",
       "</style>\n",
       "<table border=\"1\" class=\"dataframe\">\n",
       "  <thead>\n",
       "    <tr style=\"text-align: right;\">\n",
       "      <th></th>\n",
       "      <th>texto</th>\n",
       "      <th>character_count</th>\n",
       "    </tr>\n",
       "  </thead>\n",
       "  <tbody>\n",
       "    <tr>\n",
       "      <th>0</th>\n",
       "      <td>Cartas a la DirectoraiOpinión de un lector sob...</td>\n",
       "      <td>6089</td>\n",
       "    </tr>\n",
       "    <tr>\n",
       "      <th>1</th>\n",
       "      <td>Argentina\\n                        ARG\\n      ...</td>\n",
       "      <td>9337</td>\n",
       "    </tr>\n",
       "    <tr>\n",
       "      <th>2</th>\n",
       "      <td>liga de las nacionesEl Athletic gana peso en l...</td>\n",
       "      <td>8425</td>\n",
       "    </tr>\n",
       "    <tr>\n",
       "      <th>3</th>\n",
       "      <td>La Agenda de Cinco DíasLas citas clave que nec...</td>\n",
       "      <td>5982</td>\n",
       "    </tr>\n",
       "    <tr>\n",
       "      <th>4</th>\n",
       "      <td>RTVELa CNMC investiga a RTVE por la posible ve...</td>\n",
       "      <td>9939</td>\n",
       "    </tr>\n",
       "  </tbody>\n",
       "</table>\n",
       "</div>"
      ],
      "text/plain": [
       "                                               texto  character_count\n",
       "0  Cartas a la DirectoraiOpinión de un lector sob...             6089\n",
       "1  Argentina\\n                        ARG\\n      ...             9337\n",
       "2  liga de las nacionesEl Athletic gana peso en l...             8425\n",
       "3  La Agenda de Cinco DíasLas citas clave que nec...             5982\n",
       "4  RTVELa CNMC investiga a RTVE por la posible ve...             9939"
      ]
     },
     "execution_count": 8,
     "metadata": {},
     "output_type": "execute_result"
    }
   ],
   "source": [
    "df = count_characters(df, 'texto')\n",
    "df.head()"
   ]
  },
  {
   "cell_type": "code",
   "execution_count": 9,
   "id": "a43e02e4",
   "metadata": {},
   "outputs": [
    {
     "data": {
      "text/plain": [
       "7705546"
      ]
     },
     "execution_count": 9,
     "metadata": {},
     "output_type": "execute_result"
    }
   ],
   "source": [
    "char_bf_transf = df['character_count'].sum()\n",
    "char_bf_transf"
   ]
  },
  {
   "cell_type": "markdown",
   "id": "43088309",
   "metadata": {},
   "source": [
    "There were news related to other tournaments/subjects that were not properly filterd by the search engine while filtering by \"Qatar 2022\". Let's remove rows based on wether a certain word or phrase (such as other torunaments)  appear in the text of the news."
   ]
  },
  {
   "cell_type": "code",
   "execution_count": 10,
   "id": "bd638f75",
   "metadata": {},
   "outputs": [],
   "source": [
    "words_to_filter_out = ['LaLiga', 'Santander', 'Champions', 'Copa del Rey', 'elecciones', 'Seguridad Social', 'covid' \\\n",
    "                       'ENERGÍA', 'EMPLEO', 'TELECOMUNICACIONES', 'IRPF', 'MOTOGP', 'BANCO MUNDIAL', 'DEPARTAMENTO DE ESTADO', \\\n",
    "                       'RESERVA FEDERAL', 'Coyuntura económica', 'Inditex', 'MÁLAGA', 'PIB', 'Pymes', 'DESAHUCIOS', 'CONCIERTOS', 'RESIDENCIAS ANCIANOS', 'AGRESIONES SEXUALES'] "
   ]
  },
  {
   "cell_type": "code",
   "execution_count": 11,
   "id": "d94d115e",
   "metadata": {},
   "outputs": [
    {
     "data": {
      "text/html": [
       "<div>\n",
       "<style scoped>\n",
       "    .dataframe tbody tr th:only-of-type {\n",
       "        vertical-align: middle;\n",
       "    }\n",
       "\n",
       "    .dataframe tbody tr th {\n",
       "        vertical-align: top;\n",
       "    }\n",
       "\n",
       "    .dataframe thead th {\n",
       "        text-align: right;\n",
       "    }\n",
       "</style>\n",
       "<table border=\"1\" class=\"dataframe\">\n",
       "  <thead>\n",
       "    <tr style=\"text-align: right;\">\n",
       "      <th></th>\n",
       "      <th>texto</th>\n",
       "      <th>character_count</th>\n",
       "    </tr>\n",
       "  </thead>\n",
       "  <tbody>\n",
       "    <tr>\n",
       "      <th>0</th>\n",
       "      <td>Cartas a la DirectoraiOpinión de un lector sob...</td>\n",
       "      <td>6089</td>\n",
       "    </tr>\n",
       "    <tr>\n",
       "      <th>1</th>\n",
       "      <td>liga de las nacionesEl Athletic gana peso en l...</td>\n",
       "      <td>8425</td>\n",
       "    </tr>\n",
       "    <tr>\n",
       "      <th>2</th>\n",
       "      <td>Cartas a la DirectoraiOpinión de un lector sob...</td>\n",
       "      <td>6278</td>\n",
       "    </tr>\n",
       "    <tr>\n",
       "      <th>3</th>\n",
       "      <td>Liga italianaLa Serie A más insólitaEl campeon...</td>\n",
       "      <td>7064</td>\n",
       "    </tr>\n",
       "    <tr>\n",
       "      <th>4</th>\n",
       "      <td>FÚTBOLEl alcalde de Valencia rechaza instalar ...</td>\n",
       "      <td>2670</td>\n",
       "    </tr>\n",
       "    <tr>\n",
       "      <th>...</th>\n",
       "      <td>...</td>\n",
       "      <td>...</td>\n",
       "    </tr>\n",
       "    <tr>\n",
       "      <th>688</th>\n",
       "      <td>0 seconds of 0 secondsVolume 90%Press shift qu...</td>\n",
       "      <td>6825</td>\n",
       "    </tr>\n",
       "    <tr>\n",
       "      <th>689</th>\n",
       "      <td>Europa Press Internacional\\n\\n\\nPublicado: jue...</td>\n",
       "      <td>4035</td>\n",
       "    </tr>\n",
       "    <tr>\n",
       "      <th>690</th>\n",
       "      <td>Archivo - Banderas del Mundial de fútbol en un...</td>\n",
       "      <td>4977</td>\n",
       "    </tr>\n",
       "    <tr>\n",
       "      <th>691</th>\n",
       "      <td>El delantero portugués Cristiano Ronaldo, en e...</td>\n",
       "      <td>6038</td>\n",
       "    </tr>\n",
       "    <tr>\n",
       "      <th>692</th>\n",
       "      <td>MADRID, 25 Nov. (OTR/PRESS) - \\n   Hay que fel...</td>\n",
       "      <td>5804</td>\n",
       "    </tr>\n",
       "  </tbody>\n",
       "</table>\n",
       "<p>693 rows × 2 columns</p>\n",
       "</div>"
      ],
      "text/plain": [
       "                                                 texto  character_count\n",
       "0    Cartas a la DirectoraiOpinión de un lector sob...             6089\n",
       "1    liga de las nacionesEl Athletic gana peso en l...             8425\n",
       "2    Cartas a la DirectoraiOpinión de un lector sob...             6278\n",
       "3    Liga italianaLa Serie A más insólitaEl campeon...             7064\n",
       "4    FÚTBOLEl alcalde de Valencia rechaza instalar ...             2670\n",
       "..                                                 ...              ...\n",
       "688  0 seconds of 0 secondsVolume 90%Press shift qu...             6825\n",
       "689  Europa Press Internacional\\n\\n\\nPublicado: jue...             4035\n",
       "690  Archivo - Banderas del Mundial de fútbol en un...             4977\n",
       "691  El delantero portugués Cristiano Ronaldo, en e...             6038\n",
       "692  MADRID, 25 Nov. (OTR/PRESS) - \\n   Hay que fel...             5804\n",
       "\n",
       "[693 rows x 2 columns]"
      ]
     },
     "execution_count": 11,
     "metadata": {},
     "output_type": "execute_result"
    }
   ],
   "source": [
    "# Filter out rows that contain any word in the list\n",
    "df = df[~df['texto'].str.contains('|'.join(words_to_filter_out))].reset_index(drop = True)\n",
    "df"
   ]
  },
  {
   "cell_type": "code",
   "execution_count": 12,
   "id": "bcd56d51",
   "metadata": {},
   "outputs": [],
   "source": [
    "def clean_text(text):\n",
    "    \n",
    "    # Remove HTML tags\n",
    "    clean = re.compile('<.*?>')\n",
    "    text = re.sub(clean, '', text)\n",
    "    \n",
    "    # Remove text after 'Tags' (links & sections at the bottom of the website)\n",
    "    text = text.split('Tags', 1)[0]\n",
    "    \n",
    "    # Remove text after 'Lee también' (recommendations to read other articles)\n",
    "    text = text.split('Lee también', 1)[0]\n",
    "    \n",
    "    # Remove text after 'Al minuto', idem\n",
    "    text = text.split('Al minuto', 1)[0]\n",
    "    \n",
    "    # Remove text before 'protecciondedatos.es'\n",
    "    try:\n",
    "        text = text.split('protecciondedatos.es', 1)[1]\n",
    "        \n",
    "    except:\n",
    "        text\n",
    "\n",
    "    # Remove users comments\n",
    "    try:\n",
    "        text = text.split('CESTWhatsappFacebookTwitterCopiar', 1)[0]\n",
    "        \n",
    "    except:\n",
    "        text\n",
    "    \n",
    "    # Remove users @username\n",
    "    text = re.sub(r'@\\w+', '', text)\n",
    "    \n",
    "    # Remove text between curly braces\n",
    "    text = re.sub(r'\\{.*?\\}', '', text)\n",
    "    \n",
    "    # Remove line breaks\n",
    "    text = text.replace('\\n', '').replace('\\r', '')\n",
    "    \n",
    "    # Remove emojis\n",
    "    text = demoji.replace(text, '')\n",
    "    \n",
    "    # Remove URLs\n",
    "    text = re.sub(r'https\\S+', '', text, flags = re.MULTILINE)\n",
    "    \n",
    "    # Remove text between breaklines\n",
    "    text = re.sub('\\n.*?\\n', '\\n', text, flags = re.DOTALL)\n",
    "    \n",
    "    # Remove timestamp from news\n",
    "    pattern = r'(Actualizado.*|Publicado:.* ?-? ?\\d+:\\d+)'\n",
    "    text = re.sub(pattern, '', text)\n",
    "    \n",
    "    # Remove the text to share the news on social media\n",
    "    text = re.sub(r'Compartir en FacebookCompartir en TwitterEnviar por emailVer \\d+ comentarios', '', text)\n",
    "    \n",
    "    # Remove other irrelevant text\n",
    "    text = re.sub('AGENDA DEL DÍA', '', text)\n",
    "    text = re.sub(r'Opinión[\\w\\s]+\\.', '', text)\n",
    "    text = re.sub('EUROPA PRESS', '', text, flags = re.I)\n",
    "    text = re.sub('Archivo - ', '', text)\n",
    "    text = re.sub('Image - ', '', text)\n",
    "    text = re.sub('Redacción Barcelona', '', text)\n",
    "    text = re.sub(' Aquí tienes[\\w\\s]+ selección \\w+', '', text)\n",
    "    text = re.sub(': [\\w\\s]+ del \\w+ \\d*', '', text)\n",
    "    text = re.sub('Mundial 2022 Qatar', 'Mundial 2022 ', text)\n",
    "    text = re.sub('once, estrella, convocatoria y calendario de partidos', '', text)\n",
    "    text = re.sub('Enviado especial \\w+', '', text)\n",
    "    text = re.sub('Doha', '', text)\n",
    "    \n",
    "    # Remove more than two spaces\n",
    "    text = re.sub(r'\\s{1,}', ' ', text)\n",
    "    \n",
    "    return text"
   ]
  },
  {
   "cell_type": "code",
   "execution_count": 13,
   "id": "7530e745",
   "metadata": {},
   "outputs": [],
   "source": [
    "df['news'] = df['texto'].apply(clean_text).str.strip()"
   ]
  },
  {
   "cell_type": "code",
   "execution_count": 14,
   "id": "24274fde",
   "metadata": {},
   "outputs": [],
   "source": [
    "# Drop rows based on length of the string in 'text' column, if the news is short, then we drop it\n",
    "df = df[df['news'].str.len() >= 80].reset_index(drop = True)"
   ]
  },
  {
   "cell_type": "code",
   "execution_count": 15,
   "id": "34b289b2",
   "metadata": {},
   "outputs": [
    {
     "data": {
      "text/plain": [
       "1475747"
      ]
     },
     "execution_count": 15,
     "metadata": {},
     "output_type": "execute_result"
    }
   ],
   "source": [
    "df = count_characters(df, 'news')\n",
    "char_af_transf = df['character_count'].sum()\n",
    "char_af_transf"
   ]
  },
  {
   "cell_type": "code",
   "execution_count": 16,
   "id": "d76cef61",
   "metadata": {},
   "outputs": [
    {
     "data": {
      "text/html": [
       "<div>\n",
       "<style scoped>\n",
       "    .dataframe tbody tr th:only-of-type {\n",
       "        vertical-align: middle;\n",
       "    }\n",
       "\n",
       "    .dataframe tbody tr th {\n",
       "        vertical-align: top;\n",
       "    }\n",
       "\n",
       "    .dataframe thead th {\n",
       "        text-align: right;\n",
       "    }\n",
       "</style>\n",
       "<table border=\"1\" class=\"dataframe\">\n",
       "  <thead>\n",
       "    <tr style=\"text-align: right;\">\n",
       "      <th></th>\n",
       "      <th>news</th>\n",
       "    </tr>\n",
       "  </thead>\n",
       "  <tbody>\n",
       "    <tr>\n",
       "      <th>0</th>\n",
       "      <td>Cartas a la Directorai Dirigidas al director d...</td>\n",
       "    </tr>\n",
       "    <tr>\n",
       "      <th>1</th>\n",
       "      <td>liga de las nacionesEl Athletic gana peso en l...</td>\n",
       "    </tr>\n",
       "    <tr>\n",
       "      <th>2</th>\n",
       "      <td>Cartas a la Directorai Dirigidas al director d...</td>\n",
       "    </tr>\n",
       "    <tr>\n",
       "      <th>3</th>\n",
       "      <td>Liga italianaLa Serie A más insólitaEl campeon...</td>\n",
       "    </tr>\n",
       "    <tr>\n",
       "      <th>4</th>\n",
       "      <td>FÚTBOLEl alcalde de Valencia rechaza instalar ...</td>\n",
       "    </tr>\n",
       "  </tbody>\n",
       "</table>\n",
       "</div>"
      ],
      "text/plain": [
       "                                                news\n",
       "0  Cartas a la Directorai Dirigidas al director d...\n",
       "1  liga de las nacionesEl Athletic gana peso en l...\n",
       "2  Cartas a la Directorai Dirigidas al director d...\n",
       "3  Liga italianaLa Serie A más insólitaEl campeon...\n",
       "4  FÚTBOLEl alcalde de Valencia rechaza instalar ..."
      ]
     },
     "execution_count": 16,
     "metadata": {},
     "output_type": "execute_result"
    }
   ],
   "source": [
    "df = df[['news']]\n",
    "df.head()"
   ]
  },
  {
   "cell_type": "code",
   "execution_count": 17,
   "id": "dcf5df01",
   "metadata": {},
   "outputs": [],
   "source": [
    "df.to_csv('train_data.txt', index = False)"
   ]
  }
 ],
 "metadata": {
  "kernelspec": {
   "display_name": "Python 3 (ipykernel)",
   "language": "python",
   "name": "python3"
  },
  "language_info": {
   "codemirror_mode": {
    "name": "ipython",
    "version": 3
   },
   "file_extension": ".py",
   "mimetype": "text/x-python",
   "name": "python",
   "nbconvert_exporter": "python",
   "pygments_lexer": "ipython3",
   "version": "3.10.10"
  }
 },
 "nbformat": 4,
 "nbformat_minor": 5
}
